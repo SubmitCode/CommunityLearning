{
 "cells": [
  {
   "cell_type": "code",
   "execution_count": 1,
   "metadata": {},
   "outputs": [],
   "source": [
    "# default_exp data"
   ]
  },
  {
   "cell_type": "markdown",
   "metadata": {},
   "source": [
    "# Data preparation\n",
    "\n",
    "> Dieses Modul werden die Daten runtergeladen und für die Verarbeitung vorbereitet."
   ]
  },
  {
   "cell_type": "code",
   "execution_count": 1,
   "metadata": {},
   "outputs": [],
   "source": [
    "#hide\n",
    "from nbdev.showdoc import *"
   ]
  },
  {
   "cell_type": "markdown",
   "metadata": {},
   "source": [
    "## Download und unzip Data"
   ]
  },
  {
   "cell_type": "code",
   "execution_count": 2,
   "metadata": {},
   "outputs": [],
   "source": [
    "#export\n",
    "import os\n",
    "import gdown\n",
    "import pandas as pd\n",
    "from pathlib import Path\n",
    "from zipfile import ZipFile\n"
   ]
  },
  {
   "cell_type": "code",
   "execution_count": 3,
   "metadata": {},
   "outputs": [],
   "source": [
    "#export \n",
    "def download_santander_data():\n",
    "    \"\"\"downloads the data from gdrive to the data folder\"\"\"   \n",
    "    dest = Path('data/raw/train_ver2.csv.zip')\n",
    "    \n",
    "    #only download if file not already exists\n",
    "    if not dest.exists(): \n",
    "        dest.parent.mkdir(parents=True, exist_ok=True)\n",
    "        \n",
    "        gdown.download(\n",
    "            'https://drive.google.com/uc?export=download&id=1H-dFcuqI99OkXAawsTMkmylBz3exNUgZ', \n",
    "            'data/raw/train_ver2.csv.zip',\n",
    "            quiet=False)\n",
    "    else:\n",
    "        print(f\"file {dest} already exists.\")\n",
    "        \n",
    "    return dest"
   ]
  },
  {
   "cell_type": "code",
   "execution_count": 17,
   "metadata": {},
   "outputs": [
    {
     "name": "stdout",
     "output_type": "stream",
     "text": [
      "file data/raw/train_ver2.csv.zip already exists.\n"
     ]
    }
   ],
   "source": [
    "path_file = download_santander_data()"
   ]
  },
  {
   "cell_type": "code",
   "execution_count": 18,
   "metadata": {},
   "outputs": [],
   "source": [
    "#export \n",
    "def unzip(path:[Path,str], dest:[Path,str]='.'):\n",
    "    \"\"\"unzips a given file\"\"\"\n",
    "    path = Path(path)\n",
    "    dest = path.parent / path.stem\n",
    "    \n",
    "    if not dest.exists():\n",
    "        with ZipFile(str(path), 'r') as zipObj:\n",
    "            zipObj.extractall(str(path.parent))\n",
    "            print(f'extracted to {path.parent / path.stem}')\n",
    "    else:\n",
    "        print(f\"file {dest} already exists!\")\n",
    "    \n",
    "    return dest"
   ]
  },
  {
   "cell_type": "code",
   "execution_count": 19,
   "metadata": {},
   "outputs": [
    {
     "name": "stdout",
     "output_type": "stream",
     "text": [
      "file data/raw/train_ver2.csv already exists!\n"
     ]
    }
   ],
   "source": [
    "path_file = unzip(path_file, path_file.parent)"
   ]
  },
  {
   "cell_type": "markdown",
   "metadata": {},
   "source": [
    "## clean data\n",
    "Hierfür verwenden wir im Wesentlichen die Empfehlungen von [Alan Pryor](https://www.kaggle.com/apryor6/detailed-cleaning-visualization-python). "
   ]
  },
  {
   "cell_type": "code",
   "execution_count": 24,
   "metadata": {},
   "outputs": [],
   "source": [
    "#export\n",
    "# laden der Daten in einen DataFrame\n",
    "def load_csv(path_file:[Path, str], limit_rows=None):\n",
    "    \"\"\"load csv file to a pandas df\"\"\"\n",
    "    \n",
    "    if limit_rows is None:  \n",
    "        return pd.read_csv(\n",
    "            path_file,\n",
    "            dtype={\n",
    "                \"sexo\":str,\n",
    "                \"ind_nuevo\":str,\n",
    "                \"ult_fec_cli_1t\":str,\n",
    "                \"indext\":str})\n",
    "    \n",
    "    return pd.read_csv(\n",
    "        path_file,\n",
    "        dtype={\n",
    "            \"sexo\":str,\n",
    "            \"ind_nuevo\":str,\n",
    "            \"ult_fec_cli_1t\":str,\n",
    "            \"indext\":str},\n",
    "        nrows=limit_rows\n",
    "    )"
   ]
  },
  {
   "cell_type": "code",
   "execution_count": 26,
   "metadata": {},
   "outputs": [
    {
     "name": "stderr",
     "output_type": "stream",
     "text": [
      "/home/wilhelm/miniconda3/envs/CommunityLearning/lib/python3.7/site-packages/IPython/core/interactiveshell.py:3254: DtypeWarning: Columns (15) have mixed types.Specify dtype option on import or set low_memory=False.\n",
      "  if (await self.run_code(code, result,  async_=asy)):\n"
     ]
    }
   ],
   "source": [
    "df = load_csv(path_file, 1000000)"
   ]
  },
  {
   "cell_type": "code",
   "execution_count": null,
   "metadata": {},
   "outputs": [],
   "source": [
    "#export\n",
    "def clean_dates(df):\n",
    "    \"\"\"converting the dates of the df\"\"\"\n",
    "    df[\"fecha_dato\"] = pd.to_datetime(df[\"fecha_dato\"],format=\"%Y-%m-%d\")\n",
    "    df[\"fecha_alta\"] = pd.to_datetime(df[\"fecha_alta\"],format=\"%Y-%m-%d\")"
   ]
  },
  {
   "cell_type": "code",
   "execution_count": null,
   "metadata": {},
   "outputs": [],
   "source": [
    "#export \n",
    "def add_month_feature(df):\n",
    "    \"\"\"add buy month to the features\"\"\"\n",
    "    df[\"month\"] = pd.DatetimeIndex(df[\"fecha_dato\"]).month\n",
    "    return df\n",
    "\n",
    "def add_age_feature(df):\n",
    "    \"\"\"add customer age feature\"\"\"\n",
    "    df[\"age\"]   = pd.to_numeric(df[\"age\"], errors=\"coerce\")\n",
    "    return df"
   ]
  },
  {
   "cell_type": "code",
   "execution_count": null,
   "metadata": {},
   "outputs": [],
   "source": [
    "# bereinigen "
   ]
  }
 ],
 "metadata": {
  "hide_input": false,
  "kernelspec": {
   "display_name": "Python 3",
   "language": "python",
   "name": "python3"
  },
  "language_info": {
   "codemirror_mode": {
    "name": "ipython",
    "version": 3
   },
   "file_extension": ".py",
   "mimetype": "text/x-python",
   "name": "python",
   "nbconvert_exporter": "python",
   "pygments_lexer": "ipython3",
   "version": "3.7.1"
  },
  "toc": {
   "base_numbering": 1,
   "nav_menu": {},
   "number_sections": true,
   "sideBar": true,
   "skip_h1_title": false,
   "title_cell": "Table of Contents",
   "title_sidebar": "Contents",
   "toc_cell": false,
   "toc_position": {},
   "toc_section_display": true,
   "toc_window_display": false
  },
  "varInspector": {
   "cols": {
    "lenName": 16,
    "lenType": 16,
    "lenVar": 40
   },
   "kernels_config": {
    "python": {
     "delete_cmd_postfix": "",
     "delete_cmd_prefix": "del ",
     "library": "var_list.py",
     "varRefreshCmd": "print(var_dic_list())"
    },
    "r": {
     "delete_cmd_postfix": ") ",
     "delete_cmd_prefix": "rm(",
     "library": "var_list.r",
     "varRefreshCmd": "cat(var_dic_list()) "
    }
   },
   "types_to_exclude": [
    "module",
    "function",
    "builtin_function_or_method",
    "instance",
    "_Feature"
   ],
   "window_display": false
  }
 },
 "nbformat": 4,
 "nbformat_minor": 2
}
