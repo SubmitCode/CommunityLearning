{
 "cells": [
  {
   "cell_type": "markdown",
   "metadata": {},
   "source": [
    "# XGBoost"
   ]
  },
  {
   "cell_type": "markdown",
   "metadata": {},
   "source": [
    "## Was ist Federated Learing?\n",
    "\n",
    " > Define $N$ data owners ${F1, ...FN }$, all of whom wish to train a machine learning model by consolidating their respective data ${D1, ...DN }$. A conventional method is to put all data together and use $D = D1 ∪ ... ∪ DN$ to train a model $M_{SUM}$ . A federated learning system is a learning process in which the data owners collaboratively train a model $M_{FED}$ , in which process any data owner $F_i$ does not expose its data $D_i$ to others. In addition, the accuracy of $M_{FED}$ , denoted as $V_{FED}$ should be very close to the performance of $M_{SUM}$ , $V_{SUM}$ . Formally, let $\\delta$ be a non-negative real number, if \n",
    "$$| V_{FED} − V_{SUM} | < \\delta$$ \n",
    "we say the federated learning algorithm has $\\delta$-accuracy loss.\n"
   ]
  },
  {
   "cell_type": "markdown",
   "metadata": {},
   "source": [
    "## Horizontal Federated Learning"
   ]
  },
  {
   "cell_type": "markdown",
   "metadata": {},
   "source": [
    "![federated learning](data/images/horizontal_federated_learning.png \"federated learning\")\n",
    "\n",
    "![federated learning](data/images/horizontal_federated_learning_graph.png \"federated learning\")"
   ]
  },
  {
   "cell_type": "markdown",
   "metadata": {},
   "source": [
    "## Vertical Federated Learning\n",
    "![Vertical Federated Learning](data/images/transfer_learning.png \"Vertical Federated Learning\")"
   ]
  },
  {
   "cell_type": "markdown",
   "metadata": {},
   "source": [
    "## Transfer Learning\n",
    "![Transfer Learning](data/images/transfer_learning.png \"Transfer Learning\")"
   ]
  },
  {
   "cell_type": "markdown",
   "metadata": {},
   "source": [
    "## Secure XGBoost \n"
   ]
  },
  {
   "cell_type": "markdown",
   "metadata": {},
   "source": [
    "## References \n",
    "\n",
    "- [Mengwei Yang et.al., The Tradeoff Between Privacy and Accuracy in Anomaly Detection Using Federated XGBoost (2019)](https://arxiv.org/abs/1907.07157)\n",
    "- [Yang, Federated Machine Learning: Concept and Applications (2019)](https://arxiv.org/abs/1902.04885)\n",
    "- https://mc2-xgboost.readthedocs.io/en/latest/tutorials/distributed.html\n",
    "- [Tianqi Chen et.al, XGBoost (2016)](https://arxiv.org/pdf/1603.02754.pdf)\n",
    "- [XGBoost Distributed Training and Parallel Predictions with Apache Spark](https://medium.com/cloudzone/xgboost-distributed-training-and-predicting-with-apache-spark-1127cdfb31ae)\n",
    "- [http://net.pku.edu.cn/~cuibin/Papers/2017%20ICDE%20boost.pdf](http://net.pku.edu.cn/~cuibin/Papers/2017%20ICDE%20boost.pdf)\n",
    "- [https://github.com/dask/dask-lightgbm](https://github.com/dask/dask-lightgbm)\n",
    "- [Boosting Privately: Privacy-Preserving Federated Extreme Boosting for Mobile Crowdsensing](https://arxiv.org/abs/1907.10218)"
   ]
  },
  {
   "cell_type": "code",
   "execution_count": null,
   "metadata": {},
   "outputs": [],
   "source": []
  }
 ],
 "metadata": {
  "kernelspec": {
   "display_name": "Python 3",
   "language": "python",
   "name": "python3"
  }
 },
 "nbformat": 4,
 "nbformat_minor": 4
}
